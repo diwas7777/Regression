{
  "nbformat": 4,
  "nbformat_minor": 0,
  "metadata": {
    "colab": {
      "provenance": [],
      "gpuType": "T4",
      "authorship_tag": "ABX9TyORf+Rf5qWrBmTnPlOmmXAh",
      "include_colab_link": true
    },
    "kernelspec": {
      "name": "python3",
      "display_name": "Python 3"
    },
    "language_info": {
      "name": "python"
    },
    "gpuClass": "standard"
  },
  "cells": [
    {
      "cell_type": "markdown",
      "metadata": {
        "id": "view-in-github",
        "colab_type": "text"
      },
      "source": [
        "<a href=\"https://colab.research.google.com/github/diwas7777/Regression/blob/main/linear_regression_using_method_of_least_square.ipynb\" target=\"_parent\"><img src=\"https://colab.research.google.com/assets/colab-badge.svg\" alt=\"Open In Colab\"/></a>"
      ]
    },
    {
      "cell_type": "markdown",
      "source": [
        "# Linear Regression Using Method of Least Square\n",
        "\n",
        "---\n",
        "\n",
        "\n"
      ],
      "metadata": {
        "id": "-lyO6lYAcU_m"
      }
    },
    {
      "cell_type": "markdown",
      "source": [
        "## Importing required modules"
      ],
      "metadata": {
        "id": "42E-mJ4IcQD9"
      }
    },
    {
      "cell_type": "code",
      "execution_count": 2,
      "metadata": {
        "id": "kJ-p7vM_vO6_"
      },
      "outputs": [],
      "source": [
        "import numpy as np\n",
        "import matplotlib.pyplot as plt"
      ]
    },
    {
      "cell_type": "markdown",
      "source": [
        "## Taking the data for regression"
      ],
      "metadata": {
        "id": "vu3vHeYlbCtF"
      }
    },
    {
      "cell_type": "code",
      "source": [
        "x = np.asarray([])\n",
        "y = np.asarray([])\n",
        "n = int(input(\"Enter the number of data: \"))\n",
        "\n",
        "for i in range(n):\n",
        "  valueX = float(input(f\"Enter the values of X{i+1}: \"))\n",
        "  x = np.append(x, valueX, axis=None)\n",
        "\n",
        "  valueY = float(input(f\"Enter the values of Y{i+1}: \"))\n",
        "  y = np.append(y, valueY, axis=None)\n",
        "\n",
        "print(x)\n",
        "print(y)\n",
        "\n"
      ],
      "metadata": {
        "id": "c7OAeoxFEjlu",
        "colab": {
          "base_uri": "https://localhost:8080/"
        },
        "outputId": "f0b987d0-e72b-4f4f-b03a-53fd8cd190ad"
      },
      "execution_count": 8,
      "outputs": [
        {
          "output_type": "stream",
          "name": "stdout",
          "text": [
            "Enter the number of data: 12\n",
            "Enter the values of X1: 42\n",
            "Enter the values of Y1: 12\n",
            "Enter the values of X2: 35\n",
            "Enter the values of Y2: 8\n",
            "Enter the values of X3: 50\n",
            "Enter the values of Y3: 14\n",
            "Enter the values of X4: 43\n",
            "Enter the values of Y4: 9\n",
            "Enter the values of X5: 48\n",
            "Enter the values of Y5: 11\n",
            "Enter the values of X6: 62\n",
            "Enter the values of Y6: 16\n",
            "Enter the values of X7: 31\n",
            "Enter the values of Y7: 7\n",
            "Enter the values of X8: 36\n",
            "Enter the values of Y8: 9\n",
            "Enter the values of X9: 44\n",
            "Enter the values of Y9: 12\n",
            "Enter the values of X10: 39\n",
            "Enter the values of Y10: 10\n",
            "Enter the values of X11: 55\n",
            "Enter the values of Y11: 13\n",
            "Enter the values of X12: 48\n",
            "Enter the values of Y12: 11\n",
            "[42. 35. 50. 43. 48. 62. 31. 36. 44. 39. 55. 48.]\n",
            "[12.  8. 14.  9. 11. 16.  7.  9. 12. 10. 13. 11.]\n"
          ]
        }
      ]
    },
    {
      "cell_type": "markdown",
      "source": [
        "## Plotting the given data in scatter diagram"
      ],
      "metadata": {
        "id": "okbBHx92bL4t"
      }
    },
    {
      "cell_type": "code",
      "source": [
        "fig, ax = plt.subplots()\n",
        "ax.scatter(x,y)\n",
        "ax.plot([min(x),max(x)],[min(y),max(y)])\n",
        "plt.show()"
      ],
      "metadata": {
        "colab": {
          "base_uri": "https://localhost:8080/",
          "height": 430
        },
        "id": "4C-lWOOvNnT9",
        "outputId": "258fc260-7cec-4a7d-99c7-4c1dad0c20b7"
      },
      "execution_count": 12,
      "outputs": [
        {
          "output_type": "display_data",
          "data": {
            "text/plain": [
              "<Figure size 640x480 with 1 Axes>"
            ],
            "image/png": "[encoded data removed]"
          },
          "metadata": {}
        }
      ]
    },
    {
      "cell_type": "markdown",
      "source": [
        "## Calculating the required sum values for regression from the given data"
      ],
      "metadata": {
        "id": "KwlUNVcUbQlO"
      }
    },
    {
      "cell_type": "code",
      "source": [
        "sumX = 0\n",
        "sumY = 0\n",
        "sumXY = 0\n",
        "sumX2 = 0\n",
        "sumY2 = 0\n",
        "\n",
        "for i in range(len(x)):\n",
        "  sumX += x[i]\n",
        "  sumX2 += x[i]**2\n",
        "\n",
        "for i in range(len(y)):\n",
        "  sumY += y[i]\n",
        "  sumY2 += y[i]**2\n",
        "\n",
        "for i in range(len(x)):\n",
        "  sumXY += (x[i]*y[i])\n"
      ],
      "metadata": {
        "id": "R4HWjsHIMPME"
      },
      "execution_count": 13,
      "outputs": []
    },
    {
      "cell_type": "code",
      "source": [
        "print(sumX)\n",
        "print(sumY)\n",
        "print(sumXY)\n",
        "print(sumX2)\n",
        "print(sumY2)\n",
        "print(n)"
      ],
      "metadata": {
        "colab": {
          "base_uri": "https://localhost:8080/"
        },
        "id": "B0qFlDuHNJc8",
        "outputId": "67cfc2ea-6449-450c-e14d-f5f4554c3ab0"
      },
      "execution_count": 14,
      "outputs": [
        {
          "output_type": "stream",
          "name": "stdout",
          "text": [
            "533.0\n",
            "132.0\n",
            "6093.0\n",
            "24529.0\n",
            "1526.0\n",
            "12\n"
          ]
        }
      ]
    },
    {
      "cell_type": "code",
      "source": [
        "Sxy = sumXY - (1/n)*sumX*sumY\n",
        "Sxx = sumX2 - (1/n)*(sumX)**2\n",
        "Syy = sumY2 - (1/n)*(sumY)**2"
      ],
      "metadata": {
        "id": "nrJuAyZacd7i"
      },
      "execution_count": 16,
      "outputs": []
    },
    {
      "cell_type": "code",
      "source": [
        "print(Sxy)\n",
        "print(Sxx)\n",
        "print(Syy)"
      ],
      "metadata": {
        "colab": {
          "base_uri": "https://localhost:8080/"
        },
        "id": "IWF6qkILetKy",
        "outputId": "7df3de51-97e7-4673-8509-51152ea0eda6"
      },
      "execution_count": 17,
      "outputs": [
        {
          "output_type": "stream",
          "name": "stdout",
          "text": [
            "230.0\n",
            "854.9166666666679\n",
            "74.0\n"
          ]
        }
      ]
    },
    {
      "cell_type": "markdown",
      "source": [
        "## Calculating gradient of the line"
      ],
      "metadata": {
        "id": "dz4ECn8UbhHW"
      }
    },
    {
      "cell_type": "code",
      "source": [
        "m = Sxy/Sxx\n",
        "print(m)"
      ],
      "metadata": {
        "colab": {
          "base_uri": "https://localhost:8080/"
        },
        "id": "tut0jN4vNN2T",
        "outputId": "2ffa3c3c-66ee-428e-f435-e3282d3a1ca2"
      },
      "execution_count": 18,
      "outputs": [
        {
          "output_type": "stream",
          "name": "stdout",
          "text": [
            "0.2690320694024755\n"
          ]
        }
      ]
    },
    {
      "cell_type": "markdown",
      "source": [
        "## Calculating y -intercept"
      ],
      "metadata": {
        "id": "ZurPyo9Jbuc9"
      }
    },
    {
      "cell_type": "code",
      "source": [
        "c = (sumY/n) - m*(sumX/n)\n",
        "print(c)"
      ],
      "metadata": {
        "colab": {
          "base_uri": "https://localhost:8080/"
        },
        "id": "BTC_7KhtQ6lm",
        "outputId": "2178a95d-96e6-4e96-dfab-8f564175aec8"
      },
      "execution_count": 19,
      "outputs": [
        {
          "output_type": "stream",
          "name": "stdout",
          "text": [
            "-0.9495077492932857\n"
          ]
        }
      ]
    },
    {
      "cell_type": "markdown",
      "source": [
        "## Calculating new values of y to be fitted in a straight line using method of least square"
      ],
      "metadata": {
        "id": "GP0gYPJ3b0n-"
      }
    },
    {
      "cell_type": "code",
      "source": [
        "regressionY = np.asarray([])\n",
        "\n",
        "for i in range(len(y)):\n",
        "  v = m*x[i] + c\n",
        "  print(v)\n",
        "  regressionY = np.append(regressionY, v, axis=None)\n",
        "# np.set_printoptions(precision=3)\n",
        "# for item in regressionY:\n",
        "#   print(item)"
      ],
      "metadata": {
        "colab": {
          "base_uri": "https://localhost:8080/"
        },
        "id": "Ch8gfC15Raw0",
        "outputId": "f960d543-3da6-4199-db18-d3e066be4770"
      },
      "execution_count": 20,
      "outputs": [
        {
          "output_type": "stream",
          "name": "stdout",
          "text": [
            "10.349839165610685\n",
            "8.466614679793356\n",
            "12.50209572083049\n",
            "10.61887123501316\n",
            "11.964031582025537\n",
            "15.730480553660193\n",
            "7.390486402183454\n",
            "8.735646749195832\n",
            "10.887903304415635\n",
            "9.542742957403258\n",
            "13.847256067842865\n",
            "11.964031582025537\n"
          ]
        }
      ]
    },
    {
      "cell_type": "markdown",
      "source": [
        "## Plotting the new scatter diagram with new value of y (final diagram after regression)"
      ],
      "metadata": {
        "id": "tYvJep0Hb-0V"
      }
    },
    {
      "cell_type": "code",
      "source": [
        "fig, regressedDiagram = plt.subplots()\n",
        "regressedDiagram.scatter(x,regressionY)\n",
        "regressedDiagram.plot([min(x),max(x)],[min(regressionY),max(regressionY)])\n",
        "plt.show()"
      ],
      "metadata": {
        "colab": {
          "base_uri": "https://localhost:8080/",
          "height": 430
        },
        "id": "4zKzuufgR3Nr",
        "outputId": "e680c84b-a940-4f4f-ade5-f6fca79928c7"
      },
      "execution_count": 22,
      "outputs": [
        {
          "output_type": "display_data",
          "data": {
            "text/plain": [
              "<Figure size 640x480 with 1 Axes>"
            ],
            "image/png": "[encoded data removed]"
          },
          "metadata": {}
        }
      ]
    },
    {
      "cell_type": "markdown",
      "source": [
        "## Calculating the correlation"
      ],
      "metadata": {
        "id": "nYquPVEje01F"
      }
    },
    {
      "cell_type": "markdown",
      "source": [],
      "metadata": {
        "id": "hycM892BmBwy"
      }
    },
    {
      "cell_type": "markdown",
      "source": [
        "### Finding Covariance"
      ],
      "metadata": {
        "id": "E8A_qtuwmCrB"
      }
    },
    {
      "cell_type": "code",
      "source": [
        "covXY = Sxy/n\n",
        "print(covXY)"
      ],
      "metadata": {
        "colab": {
          "base_uri": "https://localhost:8080/"
        },
        "id": "f2APaFNGl5Qi",
        "outputId": "05f0fef5-1dff-4193-a55a-06f918f380fd"
      },
      "execution_count": 28,
      "outputs": [
        {
          "output_type": "stream",
          "name": "stdout",
          "text": [
            "19.166666666666668\n"
          ]
        }
      ]
    },
    {
      "cell_type": "markdown",
      "source": [
        "### Finding pearson's correlation coefficient"
      ],
      "metadata": {
        "id": "NMGGnuVvgT6O"
      }
    },
    {
      "cell_type": "markdown",
      "source": [
        "#### r = correlation coefficient\n",
        "\n",
        "<b>Note:</b><br>\n",
        "Range of r, -1 <= r <= 1<br>\n",
        "If r is close to 1, it has strong positive correlation<br>\n",
        "If r is close to -1, it has strong negative correlation"
      ],
      "metadata": {
        "id": "HI6bFZ1ag2oF"
      }
    },
    {
      "cell_type": "code",
      "source": [
        "r = Sxy/((Sxx**(1/2))*(Syy**(1/2)))\n",
        "print(r)"
      ],
      "metadata": {
        "colab": {
          "base_uri": "https://localhost:8080/"
        },
        "id": "d-cjzyzJgXnG",
        "outputId": "29c3c1bf-c563-4467-ef25-3f7118f9d441"
      },
      "execution_count": 26,
      "outputs": [
        {
          "output_type": "stream",
          "name": "stdout",
          "text": [
            "0.914429196958921\n"
          ]
        }
      ]
    },
    {
      "cell_type": "code",
      "source": [],
      "metadata": {
        "id": "SmkDCa8sghPN"
      },
      "execution_count": null,
      "outputs": []
    }
  ]
}