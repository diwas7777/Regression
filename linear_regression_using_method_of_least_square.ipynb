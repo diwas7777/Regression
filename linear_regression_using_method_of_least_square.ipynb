{
  "nbformat": 4,
  "nbformat_minor": 0,
  "metadata": {
    "colab": {
      "provenance": [],
      "gpuType": "T4",
      "authorship_tag": "ABX9TyNeXE5CydR70A8Zn3aIM5c6",
      "include_colab_link": true
    },
    "kernelspec": {
      "name": "python3",
      "display_name": "Python 3"
    },
    "language_info": {
      "name": "python"
    },
    "gpuClass": "standard"
  },
  "cells": [
    {
      "cell_type": "markdown",
      "metadata": {
        "id": "view-in-github",
        "colab_type": "text"
      },
      "source": [
        "<a href=\"https://colab.research.google.com/github/diwas7777/Regression/blob/main/linear_regression_using_method_of_least_square.ipynb\" target=\"_parent\"><img src=\"https://colab.research.google.com/assets/colab-badge.svg\" alt=\"Open In Colab\"/></a>"
      ]
    },
    {
      "cell_type": "markdown",
      "source": [
        "# Linear Regression Using Method of Least Square\n",
        "\n",
        "---\n",
        "\n",
        "\n"
      ],
      "metadata": {
        "id": "-lyO6lYAcU_m"
      }
    },
    {
      "cell_type": "markdown",
      "source": [
        "## Importing required modules"
      ],
      "metadata": {
        "id": "42E-mJ4IcQD9"
      }
    },
    {
      "cell_type": "code",
      "execution_count": 1,
      "metadata": {
        "id": "kJ-p7vM_vO6_"
      },
      "outputs": [],
      "source": [
        "import numpy as np\n",
        "import matplotlib.pyplot as plt"
      ]
    },
    {
      "cell_type": "markdown",
      "source": [
        "## Taking the data for regression"
      ],
      "metadata": {
        "id": "vu3vHeYlbCtF"
      }
    },
    {
      "cell_type": "code",
      "source": [
        "x = np.asarray([])\n",
        "y = np.asarray([])\n",
        "n = int(input(\"Enter the number of data: \"))\n",
        "\n",
        "for i in range(n):\n",
        "  valueX = float(input(f\"Enter the values of X{i+1}: \"))\n",
        "  x = np.append(x, valueX, axis=None)\n",
        "\n",
        "  valueY = float(input(f\"Enter the values of Y{i+1}: \"))\n",
        "  y = np.append(y, valueY, axis=None)\n",
        "\n",
        "print(x)\n",
        "print(y)"
      ],
      "metadata": {
        "id": "c7OAeoxFEjlu",
        "colab": {
          "base_uri": "https://localhost:8080/"
        },
        "outputId": "406ba56b-0208-4ef4-c648-a594219a9b8f"
      },
      "execution_count": 6,
      "outputs": [
        {
          "output_type": "stream",
          "name": "stdout",
          "text": [
            "Enter the number of data: 5\n",
            "Enter the values of X1: 0.51\n",
            "Enter the values of Y1: 0\n",
            "Enter the values of X2: 0.55\n",
            "Enter the values of Y2: 10\n",
            "Enter the values of X3: 0.57\n",
            "Enter the values of Y3: 20\n",
            "Enter the values of X4: 0.59\n",
            "Enter the values of Y4: 30\n",
            "Enter the values of X5: 0.63\n",
            "Enter the values of Y5: 40\n",
            "[0.51 0.55 0.57 0.59 0.63]\n",
            "[ 0. 10. 20. 30. 40.]\n"
          ]
        }
      ]
    },
    {
      "cell_type": "markdown",
      "source": [
        "## Plotting the given data in scatter diagram"
      ],
      "metadata": {
        "id": "okbBHx92bL4t"
      }
    },
    {
      "cell_type": "code",
      "source": [
        "fig, ax = plt.subplots()\n",
        "ax.scatter(x,y)\n",
        "ax.plot([x[0],x[-1]],[y[0],y[-1]])\n",
        "plt.show()"
      ],
      "metadata": {
        "colab": {
          "base_uri": "https://localhost:8080/",
          "height": 430
        },
        "id": "4C-lWOOvNnT9",
        "outputId": "1e523c90-3e0c-46ef-946f-d38ab0dd4ab7"
      },
      "execution_count": 7,
      "outputs": [
        {
          "output_type": "display_data",
          "data": {
            "text/plain": [
              "<Figure size 640x480 with 1 Axes>"
            ],
            "image/png": "[encoded data removed]"
          },
          "metadata": {}
        }
      ]
    },
    {
      "cell_type": "markdown",
      "source": [
        "## Calculating the required sum values for regression from the given data"
      ],
      "metadata": {
        "id": "KwlUNVcUbQlO"
      }
    },
    {
      "cell_type": "code",
      "source": [
        "sumX = 0\n",
        "sumY = 0\n",
        "sumXY = 0\n",
        "sumX2 = 0\n",
        "\n",
        "for i in range(len(x)):\n",
        "  sumX += x[i]\n",
        "  sumX2 += x[i]**2\n",
        "\n",
        "for i in range(len(y)):\n",
        "  sumY += y[i]\n",
        "\n",
        "for i in range(len(x)):\n",
        "  sumXY += (x[i]*y[i])\n"
      ],
      "metadata": {
        "id": "R4HWjsHIMPME"
      },
      "execution_count": 8,
      "outputs": []
    },
    {
      "cell_type": "code",
      "source": [
        "print(sumX)\n",
        "print(sumY)\n",
        "print(sumXY)\n",
        "print(sumX2)\n",
        "print(n)"
      ],
      "metadata": {
        "colab": {
          "base_uri": "https://localhost:8080/"
        },
        "id": "B0qFlDuHNJc8",
        "outputId": "3734bbcf-75c5-4e0d-ff55-12bb37b1726b"
      },
      "execution_count": 9,
      "outputs": [
        {
          "output_type": "stream",
          "name": "stdout",
          "text": [
            "2.8499999999999996\n",
            "100.0\n",
            "59.8\n",
            "1.6324999999999998\n",
            "5\n"
          ]
        }
      ]
    },
    {
      "cell_type": "markdown",
      "source": [
        "## Calculating gradient of the line"
      ],
      "metadata": {
        "id": "dz4ECn8UbhHW"
      }
    },
    {
      "cell_type": "code",
      "source": [
        "m = (n*sumXY - sumX*sumY)/(n*sumX2 - sumX**2)\n",
        "print(m)"
      ],
      "metadata": {
        "colab": {
          "base_uri": "https://localhost:8080/"
        },
        "id": "tut0jN4vNN2T",
        "outputId": "c6087c59-3ace-4525-b4bc-000110fdb411"
      },
      "execution_count": 10,
      "outputs": [
        {
          "output_type": "stream",
          "name": "stdout",
          "text": [
            "349.99999999999335\n"
          ]
        }
      ]
    },
    {
      "cell_type": "markdown",
      "source": [
        "## Calculating y -intercept"
      ],
      "metadata": {
        "id": "ZurPyo9Jbuc9"
      }
    },
    {
      "cell_type": "code",
      "source": [
        "c = (sumY/n) - m*(sumX/n)\n",
        "print(c)"
      ],
      "metadata": {
        "colab": {
          "base_uri": "https://localhost:8080/"
        },
        "id": "BTC_7KhtQ6lm",
        "outputId": "6e0151fb-ff6e-4712-fa39-d9370b4e918a"
      },
      "execution_count": 11,
      "outputs": [
        {
          "output_type": "stream",
          "name": "stdout",
          "text": [
            "-179.4999999999962\n"
          ]
        }
      ]
    },
    {
      "cell_type": "markdown",
      "source": [
        "## Calculating new values of y to be fitted in a straight line using method of least square"
      ],
      "metadata": {
        "id": "GP0gYPJ3b0n-"
      }
    },
    {
      "cell_type": "code",
      "source": [
        "regressionY = np.asarray([])\n",
        "\n",
        "for i in range(len(y)):\n",
        "  v = m*x[i] + c\n",
        "  print(v)\n",
        "  regressionY = np.append(regressionY, v, axis=None)\n",
        "# np.set_printoptions(precision=3)\n",
        "# for item in regressionY:\n",
        "#   print(item)"
      ],
      "metadata": {
        "colab": {
          "base_uri": "https://localhost:8080/"
        },
        "id": "Ch8gfC15Raw0",
        "outputId": "5bbb861f-fca0-4648-b373-59d5dc073bd7"
      },
      "execution_count": 12,
      "outputs": [
        {
          "output_type": "stream",
          "name": "stdout",
          "text": [
            "-0.9999999999995737\n",
            "13.00000000000017\n",
            "20.0\n",
            "26.999999999999886\n",
            "40.99999999999963\n"
          ]
        }
      ]
    },
    {
      "cell_type": "markdown",
      "source": [
        "## Plotting the new scatter diagram with new value of y (final diagram after regression)"
      ],
      "metadata": {
        "id": "tYvJep0Hb-0V"
      }
    },
    {
      "cell_type": "code",
      "source": [
        "fig, regressedDiagram = plt.subplots()\n",
        "regressedDiagram.scatter(x,regressionY)\n",
        "regressedDiagram.plot([x[0],x[-1]],[regressionY[0],regressionY[-1]])\n",
        "plt.show()"
      ],
      "metadata": {
        "colab": {
          "base_uri": "https://localhost:8080/",
          "height": 430
        },
        "id": "4zKzuufgR3Nr",
        "outputId": "37754797-9a7e-42fe-a481-aaf2c027435d"
      },
      "execution_count": 14,
      "outputs": [
        {
          "output_type": "display_data",
          "data": {
            "text/plain": [
              "<Figure size 640x480 with 1 Axes>"
            ],
            "image/png": "[encoded data removed]"
          },
          "metadata": {}
        }
      ]
    }
  ]
}